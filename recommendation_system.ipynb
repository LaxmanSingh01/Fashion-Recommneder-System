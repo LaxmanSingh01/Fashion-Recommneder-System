{
 "cells": [
  {
   "cell_type": "markdown",
   "id": "57f12506",
   "metadata": {},
   "source": [
    "## In this module we are going to apply our Nearest Neighbor algorithm to find the recommendation"
   ]
  },
  {
   "cell_type": "markdown",
   "id": "be0b2941",
   "metadata": {},
   "source": [
    "## Importing the libraries"
   ]
  },
  {
   "cell_type": "code",
   "execution_count": 1,
   "id": "8644a92a",
   "metadata": {},
   "outputs": [],
   "source": [
    "import pickle\n",
    "import tensorflow\n",
    "import numpy as np\n",
    "from numpy.linalg import norm\n",
    "from tensorflow.keras.preprocessing import image\n",
    "from tensorflow.keras.layers import GlobalMaxPooling2D\n",
    "from tensorflow.keras.applications.resnet50 import ResNet50,preprocess_input\n",
    "from sklearn.neighbors import NearestNeighbors\n",
    "import cv2"
   ]
  },
  {
   "cell_type": "markdown",
   "id": "508f7817",
   "metadata": {},
   "source": [
    "## Unpickling the modules"
   ]
  },
  {
   "cell_type": "code",
   "execution_count": 2,
   "id": "6d7aed2f",
   "metadata": {},
   "outputs": [],
   "source": [
    "feature_list= np.array(pickle.load(open('feature.pkl','rb')))\n",
    "file = pickle.load(open('file_name.pkl','rb'))"
   ]
  },
  {
   "cell_type": "code",
   "execution_count": 3,
   "id": "7ed5df39",
   "metadata": {},
   "outputs": [
    {
     "data": {
      "text/plain": [
       "(44441, 2048)"
      ]
     },
     "execution_count": 3,
     "metadata": {},
     "output_type": "execute_result"
    }
   ],
   "source": [
    "feature_list.shape"
   ]
  },
  {
   "cell_type": "markdown",
   "id": "7994ba40",
   "metadata": {},
   "source": [
    "## Initializing the module"
   ]
  },
  {
   "cell_type": "code",
   "execution_count": 4,
   "id": "17fafe89",
   "metadata": {},
   "outputs": [],
   "source": [
    "model = ResNet50(weights='imagenet',include_top=False,input_shape=(224,224,3))\n",
    "model.trainable = False\n",
    "\n",
    "model = tensorflow.keras.Sequential([\n",
    "    model,\n",
    "    GlobalMaxPooling2D()\n",
    "])\n"
   ]
  },
  {
   "cell_type": "code",
   "execution_count": 5,
   "id": "73c557c1",
   "metadata": {},
   "outputs": [],
   "source": [
    "## Coverting the image into desired format"
   ]
  },
  {
   "cell_type": "code",
   "execution_count": 6,
   "id": "acccf440",
   "metadata": {},
   "outputs": [],
   "source": [
    "img = image.load_img('test_images/shirt.jpg',target_size=(224,224))\n",
    "img_array = image.img_to_array(img)\n",
    "expanded_img_array = np.expand_dims(img_array, axis=0)\n",
    "preprocessed_img = preprocess_input(expanded_img_array)\n",
    "result = model.predict(preprocessed_img).flatten()\n",
    "normalized_result = result / norm(result)"
   ]
  },
  {
   "cell_type": "code",
   "execution_count": 7,
   "id": "72f0a734",
   "metadata": {},
   "outputs": [],
   "source": [
    "## Applying the algorithm"
   ]
  },
  {
   "cell_type": "code",
   "execution_count": 8,
   "id": "2e247751",
   "metadata": {},
   "outputs": [
    {
     "data": {
      "text/plain": [
       "NearestNeighbors(algorithm='brute', metric='euclidean', n_neighbors=6)"
      ]
     },
     "execution_count": 8,
     "metadata": {},
     "output_type": "execute_result"
    }
   ],
   "source": [
    "neighbors = NearestNeighbors(n_neighbors=6,algorithm='brute',metric='euclidean')\n",
    "neighbors.fit(feature_list)"
   ]
  },
  {
   "cell_type": "code",
   "execution_count": 9,
   "id": "aee8f1a6",
   "metadata": {},
   "outputs": [],
   "source": [
    "distances,suggestion = neighbors.kneighbors([normalized_result])"
   ]
  },
  {
   "cell_type": "code",
   "execution_count": 10,
   "id": "66dd2dd5",
   "metadata": {},
   "outputs": [
    {
     "name": "stdout",
     "output_type": "stream",
     "text": [
      "[[ 9526  9537 10109 10098  9868  9609]]\n"
     ]
    }
   ],
   "source": [
    "print(suggestion)"
   ]
  },
  {
   "cell_type": "code",
   "execution_count": 11,
   "id": "665708cb",
   "metadata": {},
   "outputs": [],
   "source": [
    "## Showing the suggestions"
   ]
  },
  {
   "cell_type": "code",
   "execution_count": 12,
   "id": "81a50f7f",
   "metadata": {},
   "outputs": [],
   "source": [
    "for i in suggestion[0][1:6]:\n",
    "    img = cv2.imread(file[i])\n",
    "    cv2.imshow('suggestion',cv2.resize(img,(400,400)))\n",
    "    cv2.waitKey(0)"
   ]
  }
 ],
 "metadata": {
  "kernelspec": {
   "display_name": "Python 3",
   "language": "python",
   "name": "python3"
  },
  "language_info": {
   "codemirror_mode": {
    "name": "ipython",
    "version": 3
   },
   "file_extension": ".py",
   "mimetype": "text/x-python",
   "name": "python",
   "nbconvert_exporter": "python",
   "pygments_lexer": "ipython3",
   "version": "3.9.7"
  }
 },
 "nbformat": 4,
 "nbformat_minor": 5
}
